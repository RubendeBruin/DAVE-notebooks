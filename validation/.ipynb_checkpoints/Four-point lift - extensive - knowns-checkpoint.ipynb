{
 "cells": [
  {
   "cell_type": "markdown",
   "metadata": {},
   "source": [
    "# Tutorial : Four-point lift\n",
    "\n",
    "In this example we will create a four-point lift.\n",
    "\n",
    "We will do this in the proper way:\n",
    "\n",
    "1. Create a lifted-object asset\n",
    "2. Create a padeye asset\n",
    "3. Create new scene, \n",
    "4. import the lifted object asset, \n",
    "5. import the padeye asset 4x and attach them to the lifted object\n",
    "6. Save as a ready-to-be-lifted asset\n",
    "7. Start a new scene for modelling the lift\n",
    "8. import the pre-made hook asset and ready-to-be-lifted asset\n",
    "9. define the rigging\n",
    "10. solve and analyze\n",
    "\n"
   ]
  },
  {
   "cell_type": "markdown",
   "metadata": {},
   "source": [
    "## Step 0\n",
    "\n",
    "These two lines are always the same. They basically load the program.\n"
   ]
  },
  {
   "cell_type": "code",
   "execution_count": 1,
   "metadata": {},
   "outputs": [],
   "source": [
    "from DAVE.scene import *\n",
    "from DAVE.jupyter import *"
   ]
  },
  {
   "cell_type": "markdown",
   "metadata": {},
   "source": [
    "## Step 1 - create the lifted-object asset\n",
    "\n",
    "- Create a 3000mT rigid body.\n",
    "- Choose the origin to be in the center (this is a choice)\n",
    "- Visualize it using the build-in \"wirecube\" visual. The default corner-points of this visual are at (+/- 1, +/- 1, +/- 1). So so make a 40 by 20 by 10 cube we need to scele it by 40/2, 20/2 and 10/2 \n",
    "- Set the cog to x=1, y=0.5 and z=-3."
   ]
  },
  {
   "cell_type": "code",
   "execution_count": 2,
   "metadata": {},
   "outputs": [
    {
     "name": "stdout",
     "output_type": "stream",
     "text": [
      "setting on\n"
     ]
    },
    {
     "data": {
      "application/vnd.jupyter.widget-view+json": {
       "model_id": "f8323c91aae14e7b9f0aef56a03d1cf8",
       "version_major": 2,
       "version_minor": 0
      },
      "text/plain": [
       "Plot(antialias=3, axes=['x', 'y', 'z'], background_color=16777215, fps_meter=False, grid=[-20.0, -10.0, -5.0, …"
      ]
     },
     "metadata": {},
     "output_type": "display_data"
    }
   ],
   "source": [
    "s = Scene()\n",
    "s.new_rigidbody('lifted_object', mass = 3000, cog = (4,2.7,-3), fixed=False)\n",
    "s.new_visual('lo_visual', parent = 'lifted_object', path='wirecube.obj', scale=(40/2,20/2,10/2))\n",
    "show(s)"
   ]
  },
  {
   "cell_type": "markdown",
   "metadata": {},
   "source": [
    "Now save this scene as an asset"
   ]
  },
  {
   "cell_type": "code",
   "execution_count": 3,
   "metadata": {},
   "outputs": [
    {
     "name": "stdout",
     "output_type": "stream",
     "text": [
      "Saved as C:\\Users\\Ruben\\Blender models\\BigThing.pscene\n"
     ]
    },
    {
     "data": {
      "text/plain": [
       "'C:\\\\Users\\\\Ruben\\\\Blender models\\\\BigThing.pscene'"
      ]
     },
     "execution_count": 3,
     "metadata": {},
     "output_type": "execute_result"
    }
   ],
   "source": [
    "s.save_scene('BigThing')"
   ]
  },
  {
   "cell_type": "markdown",
   "metadata": {},
   "source": [
    "## Step 2  - Create the padeye asset\n",
    "\n",
    "- For this example we will ignore the mass of the padeye. This means that we can use an Axis to model the padeye. To give the padeye a mass a rigid body can be used instead.\n",
    "- The build-in padeye visual has its origin at the lower, outer corner and its hole at 1,1. So we need to scele it to something more realistic when using it.\n",
    "- The attachments points of the cable are POI-type nodes."
   ]
  },
  {
   "cell_type": "code",
   "execution_count": 4,
   "metadata": {},
   "outputs": [
    {
     "data": {
      "application/vnd.jupyter.widget-view+json": {
       "model_id": "a632febb7e854124806b0d16a032a3e6",
       "version_major": 2,
       "version_minor": 0
      },
      "text/plain": [
       "Plot(antialias=3, axes=['x', 'y', 'z'], background_color=16777215, fps_meter=False, grid=[-0.10000000149011612…"
      ]
     },
     "metadata": {},
     "output_type": "display_data"
    }
   ],
   "source": [
    "s = Scene()\n",
    "s.new_axis('mainplate')\n",
    "s.new_visual('pad_visual', parent = 'mainplate', path='padeye.obj', scale=(2,5,1))\n",
    "s.new_poi('eye', parent='mainplate', position=(2,0,1))\n",
    "show(s)"
   ]
  },
  {
   "cell_type": "markdown",
   "metadata": {},
   "source": [
    "And save the padeye as an asset:"
   ]
  },
  {
   "cell_type": "code",
   "execution_count": 5,
   "metadata": {},
   "outputs": [
    {
     "name": "stdout",
     "output_type": "stream",
     "text": [
      "Saved as C:\\Users\\Ruben\\Blender models\\padeye.pscene\n"
     ]
    },
    {
     "data": {
      "text/plain": [
       "'C:\\\\Users\\\\Ruben\\\\Blender models\\\\padeye.pscene'"
      ]
     },
     "execution_count": 5,
     "metadata": {},
     "output_type": "execute_result"
    }
   ],
   "source": [
    "s.save_scene('padeye')"
   ]
  },
  {
   "cell_type": "markdown",
   "metadata": {},
   "source": [
    "\n",
    "\n",
    "\n",
    "## Step 3 - Start the final model\n",
    "\n",
    "We now have all the components for our final model. So start a new scene:"
   ]
  },
  {
   "cell_type": "code",
   "execution_count": 6,
   "metadata": {},
   "outputs": [],
   "source": [
    "s = Scene()"
   ]
  },
  {
   "cell_type": "markdown",
   "metadata": {},
   "source": [
    "## Step 4 - Import the lifted-object\n",
    "\n",
    "Since the scene is still empty, we can use the \"load\" method to import the lifted object:"
   ]
  },
  {
   "cell_type": "code",
   "execution_count": 7,
   "metadata": {},
   "outputs": [],
   "source": [
    "s.load_scene('BigThing')"
   ]
  },
  {
   "cell_type": "markdown",
   "metadata": {},
   "source": [
    "## Step 5 - Import the padeyes\n",
    "\n",
    "We could try to load the padeyes into the scene using the \"load\" method. This would however fail because we would be importing the same thing four times which would result in duplicate node-names.\n",
    "\n",
    "So instead of using \"load\" we will use \"import_scene\".\n",
    "\n",
    "Import scene provides the option to apply a pre-fix to the names of the elements when importing.\n",
    "\n",
    "Import also provides the option to \"containerize\" the nodes. This means that all imported nodes will be placed on a newly-created axis system. This axis system can then be moved to a desired position and then dissolved. Since in this case our padeye model contains only a single axis system and everything (visual and poi) are already attached to that it is not needed to use this option.\n"
   ]
  },
  {
   "cell_type": "code",
   "execution_count": 8,
   "metadata": {},
   "outputs": [
    {
     "name": "stdout",
     "output_type": "stream",
     "text": [
      "lifted_object [RigidBody]\n",
      " |-> lo_visual [Visual]\n",
      "LP1_mainplate [Axis]\n",
      " |-> LP1_eye [Poi]\n",
      " |-> LP1_pad_visual [Visual]\n"
     ]
    }
   ],
   "source": [
    "s.import_scene('padeye', prefix = 'LP1_', containerize=False)\n",
    "s.print_node_tree()"
   ]
  },
  {
   "cell_type": "markdown",
   "metadata": {},
   "source": [
    "We now have to attach the padeye to the lifted object and put it where it needs to be:\n"
   ]
  },
  {
   "cell_type": "code",
   "execution_count": 9,
   "metadata": {},
   "outputs": [
    {
     "name": "stdout",
     "output_type": "stream",
     "text": [
      "setting on\n"
     ]
    },
    {
     "data": {
      "application/vnd.jupyter.widget-view+json": {
       "model_id": "cc702f589b58481ba9c20ad2a3095977",
       "version_major": 2,
       "version_minor": 0
      },
      "text/plain": [
       "Plot(antialias=3, axes=['x', 'y', 'z'], background_color=16777215, fps_meter=False, grid=[-20.586602541668924,…"
      ]
     },
     "metadata": {},
     "output_type": "display_data"
    }
   ],
   "source": [
    "p = s['LP1_mainplate']\n",
    "p.parent = s['lifted_object']\n",
    "p.position = (-20,-10,5)\n",
    "p.rotation = (0,0,30)\n",
    "show(s)"
   ]
  },
  {
   "cell_type": "markdown",
   "metadata": {},
   "source": [
    "Now do this for the three other padeyes as well"
   ]
  },
  {
   "cell_type": "code",
   "execution_count": 10,
   "metadata": {},
   "outputs": [
    {
     "name": "stdout",
     "output_type": "stream",
     "text": [
      "lifted_object [RigidBody]\n",
      " |-> LP1_mainplate [Axis]\n",
      " |    |-> LP1_eye [Poi]\n",
      " |    |-> LP1_pad_visual [Visual]\n",
      " |-> LP2_mainplate [Axis]\n",
      " |    |-> LP2_eye [Poi]\n",
      " |    |-> LP2_pad_visual [Visual]\n",
      " |-> LP3_mainplate [Axis]\n",
      " |    |-> LP3_eye [Poi]\n",
      " |    |-> LP3_pad_visual [Visual]\n",
      " |-> LP4_mainplate [Axis]\n",
      " |    |-> LP4_eye [Poi]\n",
      " |    |-> LP4_pad_visual [Visual]\n",
      " |-> lo_visual [Visual]\n"
     ]
    }
   ],
   "source": [
    "s.import_scene('padeye', prefix = 'LP2_', containerize=False)\n",
    "p = s['LP2_mainplate']\n",
    "p.parent = s['lifted_object']\n",
    "p.position = (20,-10,5)\n",
    "p.rotation = (0,0,150)\n",
    "\n",
    "s.import_scene('padeye', prefix = 'LP3_', containerize=False)\n",
    "p = s['LP3_mainplate']\n",
    "p.parent = s['lifted_object']\n",
    "p.position = (20,10,5)\n",
    "p.rotation = (0,0,210)\n",
    "\n",
    "s.import_scene('padeye', prefix = 'LP4_', containerize=False)\n",
    "p = s['LP4_mainplate']\n",
    "p.parent = s['lifted_object']\n",
    "p.position = (-20,10,5)\n",
    "p.rotation = (0,0,-30)\n",
    "\n",
    "s.print_node_tree()"
   ]
  },
  {
   "cell_type": "code",
   "execution_count": 11,
   "metadata": {},
   "outputs": [
    {
     "name": "stdout",
     "output_type": "stream",
     "text": [
      "setting on\n"
     ]
    },
    {
     "data": {
      "application/vnd.jupyter.widget-view+json": {
       "model_id": "56aada4e44a644e097d263237e540e12",
       "version_major": 2,
       "version_minor": 0
      },
      "text/plain": [
       "Plot(antialias=3, axes=['x', 'y', 'z'], background_color=16777215, fps_meter=False, grid=[-20.586602541668924,…"
      ]
     },
     "metadata": {},
     "output_type": "display_data"
    }
   ],
   "source": [
    "show(s)"
   ]
  },
  {
   "cell_type": "markdown",
   "metadata": {},
   "source": [
    "And save as yet another asset:"
   ]
  },
  {
   "cell_type": "code",
   "execution_count": 12,
   "metadata": {},
   "outputs": [
    {
     "name": "stdout",
     "output_type": "stream",
     "text": [
      "Saved as C:\\Users\\Ruben\\Blender models\\ready_to_be_lifted.pscene\n"
     ]
    },
    {
     "data": {
      "text/plain": [
       "'C:\\\\Users\\\\Ruben\\\\Blender models\\\\ready_to_be_lifted.pscene'"
      ]
     },
     "execution_count": 12,
     "metadata": {},
     "output_type": "execute_result"
    }
   ],
   "source": [
    "s.save_scene('ready_to_be_lifted')"
   ]
  },
  {
   "cell_type": "markdown",
   "metadata": {},
   "source": [
    "# Create a lifting scene"
   ]
  },
  {
   "cell_type": "code",
   "execution_count": 13,
   "metadata": {},
   "outputs": [],
   "source": [
    "s = Scene()"
   ]
  },
  {
   "cell_type": "code",
   "execution_count": 14,
   "metadata": {},
   "outputs": [],
   "source": [
    "s.load_scene('hook4p')"
   ]
  },
  {
   "cell_type": "code",
   "execution_count": 15,
   "metadata": {},
   "outputs": [],
   "source": [
    "s.import_scene('ready_to_be_lifted')  # no need to pre-fix"
   ]
  },
  {
   "cell_type": "markdown",
   "metadata": {},
   "source": [
    "Using \"import_scene\" without \"containerize=False\" will place all nodes from \"ready_to_be_lifted\" in an import_container. This is clearly visible when printing the node-tree:"
   ]
  },
  {
   "cell_type": "code",
   "execution_count": 16,
   "metadata": {},
   "outputs": [
    {
     "name": "stdout",
     "output_type": "stream",
     "text": [
      "upper_block [RigidBody]\n",
      " |-> lower_block [RigidBody]\n",
      " |    |-> hook4p [RigidBody]\n",
      " |    |    |-> prong1 [Poi]\n",
      " |    |    |-> prong2 [Poi]\n",
      " |    |    |-> prong3 [Poi]\n",
      " |    |    |-> prong4 [Poi]\n",
      " |    |    |-> Visual [Visual]\n",
      " |    |-> lb_visual [Visual]\n",
      " |-> uh_visual [Visual]\n",
      "import_container [Axis]\n",
      " |-> lifted_object [RigidBody]\n",
      " |    |-> LP1_mainplate [Axis]\n",
      " |    |    |-> LP1_eye [Poi]\n",
      " |    |    |-> LP1_pad_visual [Visual]\n",
      " |    |-> LP2_mainplate [Axis]\n",
      " |    |    |-> LP2_eye [Poi]\n",
      " |    |    |-> LP2_pad_visual [Visual]\n",
      " |    |-> LP3_mainplate [Axis]\n",
      " |    |    |-> LP3_eye [Poi]\n",
      " |    |    |-> LP3_pad_visual [Visual]\n",
      " |    |-> LP4_mainplate [Axis]\n",
      " |    |    |-> LP4_eye [Poi]\n",
      " |    |    |-> LP4_pad_visual [Visual]\n",
      " |    |-> lo_visual [Visual]\n"
     ]
    }
   ],
   "source": [
    "s.print_node_tree()"
   ]
  },
  {
   "cell_type": "markdown",
   "metadata": {},
   "source": [
    "This container makes it easy to shift or rotate all imported nodes as a group.\n",
    "\n",
    "\n",
    "Note:\n",
    "In this specific case we could have done without is since shifting or rotating the imported \"lifted-object\" would have the same effect.\n",
    "\n",
    "\n",
    "Shift the import_container (and its contents) to a location that looks more-or-less ok"
   ]
  },
  {
   "cell_type": "code",
   "execution_count": 17,
   "metadata": {},
   "outputs": [],
   "source": [
    "s['import_container'].position = (0,0,-40)\n",
    "s['import_container'].rotation = (0,0,45)\n"
   ]
  },
  {
   "cell_type": "code",
   "execution_count": 18,
   "metadata": {},
   "outputs": [
    {
     "name": "stdout",
     "output_type": "stream",
     "text": [
      "setting on\n",
      "setting on\n",
      "setting on\n",
      "setting on\n"
     ]
    },
    {
     "data": {
      "application/vnd.jupyter.widget-view+json": {
       "model_id": "8d3cc101c77e4eebb1dab479b5d829d4",
       "version_major": 2,
       "version_minor": 0
      },
      "text/plain": [
       "Plot(antialias=3, axes=['x', 'y', 'z'], background_color=16777215, fps_meter=False, grid=[-21.568615064767197,…"
      ]
     },
     "metadata": {},
     "output_type": "display_data"
    }
   ],
   "source": [
    "show(s)"
   ]
  },
  {
   "cell_type": "markdown",
   "metadata": {},
   "source": [
    "When it looks ok then the container can be \"dissolved\" (dissolve means to evaporate, delete the node but to not remove its contents)."
   ]
  },
  {
   "cell_type": "code",
   "execution_count": 19,
   "metadata": {},
   "outputs": [
    {
     "name": "stdout",
     "output_type": "stream",
     "text": [
      "Deleting import_container [Axis]\n"
     ]
    }
   ],
   "source": [
    "s.dissolve('import_container')"
   ]
  },
  {
   "cell_type": "markdown",
   "metadata": {},
   "source": [
    "Let's verify that we now have the same model but without the container:"
   ]
  },
  {
   "cell_type": "code",
   "execution_count": 20,
   "metadata": {},
   "outputs": [
    {
     "name": "stdout",
     "output_type": "stream",
     "text": [
      "upper_block [RigidBody]\n",
      " |-> lower_block [RigidBody]\n",
      " |    |-> hook4p [RigidBody]\n",
      " |    |    |-> prong1 [Poi]\n",
      " |    |    |-> prong2 [Poi]\n",
      " |    |    |-> prong3 [Poi]\n",
      " |    |    |-> prong4 [Poi]\n",
      " |    |    |-> Visual [Visual]\n",
      " |    |-> lb_visual [Visual]\n",
      " |-> uh_visual [Visual]\n",
      "lifted_object [RigidBody]\n",
      " |-> LP1_mainplate [Axis]\n",
      " |    |-> LP1_eye [Poi]\n",
      " |    |-> LP1_pad_visual [Visual]\n",
      " |-> LP2_mainplate [Axis]\n",
      " |    |-> LP2_eye [Poi]\n",
      " |    |-> LP2_pad_visual [Visual]\n",
      " |-> LP3_mainplate [Axis]\n",
      " |    |-> LP3_eye [Poi]\n",
      " |    |-> LP3_pad_visual [Visual]\n",
      " |-> LP4_mainplate [Axis]\n",
      " |    |-> LP4_eye [Poi]\n",
      " |    |-> LP4_pad_visual [Visual]\n",
      " |-> lo_visual [Visual]\n",
      "setting on\n",
      "setting on\n",
      "setting on\n",
      "setting on\n"
     ]
    },
    {
     "data": {
      "application/vnd.jupyter.widget-view+json": {
       "model_id": "274869dcbc634697a440f5dd983ca6df",
       "version_major": 2,
       "version_minor": 0
      },
      "text/plain": [
       "Plot(antialias=3, axes=['x', 'y', 'z'], background_color=16777215, fps_meter=False, grid=[-20.458780429793567,…"
      ]
     },
     "metadata": {},
     "output_type": "display_data"
    }
   ],
   "source": [
    "s.print_node_tree()\n",
    "show(s)"
   ]
  },
  {
   "cell_type": "markdown",
   "metadata": {},
   "source": [
    "# Add the rigging\n",
    "\n",
    "Rigging is modeled using cables. We will not specify the length of the cables explicitly. This will set the un-stretched length of the cables to the current distance between the endpoints."
   ]
  },
  {
   "cell_type": "code",
   "execution_count": 21,
   "metadata": {},
   "outputs": [],
   "source": [
    "EA = 800000"
   ]
  },
  {
   "cell_type": "code",
   "execution_count": 22,
   "metadata": {},
   "outputs": [
    {
     "data": {
      "text/plain": [
       "<virtualfloat.scene.Cable at 0x1b9d8e6fb00>"
      ]
     },
     "execution_count": 22,
     "metadata": {},
     "output_type": "execute_result"
    }
   ],
   "source": [
    "s.new_cable('system 1', \n",
    "            poiA='LP1_eye', \n",
    "            poiB='prong1',\n",
    "            EA=EA)\n",
    "\n",
    "s.new_cable('system 2', \n",
    "            poiA='LP2_eye', \n",
    "            poiB='prong2',\n",
    "            EA=EA)\n",
    "\n",
    "s.new_cable('system 3', \n",
    "            poiA='LP3_eye', \n",
    "            poiB='prong3',\n",
    "            EA=EA)\n",
    "\n",
    "s.new_cable('system 4', \n",
    "            poiA='LP4_eye', \n",
    "            poiB='prong4',\n",
    "            EA=EA)"
   ]
  },
  {
   "cell_type": "code",
   "execution_count": 23,
   "metadata": {},
   "outputs": [
    {
     "name": "stdout",
     "output_type": "stream",
     "text": [
      "setting on\n",
      "setting on\n",
      "setting on\n",
      "setting on\n"
     ]
    },
    {
     "data": {
      "application/vnd.jupyter.widget-view+json": {
       "model_id": "03e8dd5a573347ddbada544ea058324a",
       "version_major": 2,
       "version_minor": 0
      },
      "text/plain": [
       "Plot(antialias=3, axes=['x', 'y', 'z'], background_color=16777215, fps_meter=False, grid=[-20.458780429793567,…"
      ]
     },
     "metadata": {},
     "output_type": "display_data"
    }
   ],
   "source": [
    "show(s)"
   ]
  },
  {
   "cell_type": "markdown",
   "metadata": {},
   "source": [
    "Looks a bit entangled. Lets see if the module will rotate to the right orientation when solving:"
   ]
  },
  {
   "cell_type": "code",
   "execution_count": 24,
   "metadata": {},
   "outputs": [
    {
     "data": {
      "text/plain": [
       "229"
      ]
     },
     "execution_count": 24,
     "metadata": {},
     "output_type": "execute_result"
    }
   ],
   "source": [
    "s.solve_statics()"
   ]
  },
  {
   "cell_type": "code",
   "execution_count": 25,
   "metadata": {},
   "outputs": [
    {
     "name": "stdout",
     "output_type": "stream",
     "text": [
      "setting on\n",
      "setting on\n",
      "setting on\n",
      "setting on\n"
     ]
    },
    {
     "data": {
      "application/vnd.jupyter.widget-view+json": {
       "model_id": "e239d39bec524ef1b328cf75160f7347",
       "version_major": 2,
       "version_minor": 0
      },
      "text/plain": [
       "Plot(antialias=3, axes=['x', 'y', 'z'], background_color=16777215, fps_meter=False, grid=[-16.720285056078556,…"
      ]
     },
     "metadata": {},
     "output_type": "display_data"
    }
   ],
   "source": [
    "show(s)"
   ]
  },
  {
   "cell_type": "code",
   "execution_count": 26,
   "metadata": {},
   "outputs": [
    {
     "data": {
      "text/plain": [
       "array([ -8.48640785,  -1.77007257, 127.60631547])"
      ]
     },
     "execution_count": 26,
     "metadata": {},
     "output_type": "execute_result"
    }
   ],
   "source": [
    "s['lifted_object'].rotation"
   ]
  },
  {
   "cell_type": "code",
   "execution_count": 27,
   "metadata": {},
   "outputs": [],
   "source": [
    "from DAVE.gui import Gui"
   ]
  },
  {
   "cell_type": "code",
   "execution_count": 28,
   "metadata": {},
   "outputs": [
    {
     "ename": "IndexError",
     "evalue": "list index out of range",
     "output_type": "error",
     "traceback": [
      "\u001b[1;31m---------------------------------------------------------------------------\u001b[0m",
      "\u001b[1;31mIndexError\u001b[0m                                Traceback (most recent call last)",
      "\u001b[1;32m<ipython-input-28-77b92c12582b>\u001b[0m in \u001b[0;36m<module>\u001b[1;34m\u001b[0m\n\u001b[1;32m----> 1\u001b[1;33m \u001b[0mGui\u001b[0m\u001b[1;33m(\u001b[0m\u001b[0ms\u001b[0m\u001b[1;33m)\u001b[0m\u001b[1;33m.\u001b[0m\u001b[0mshow\u001b[0m\u001b[1;33m(\u001b[0m\u001b[1;33m)\u001b[0m\u001b[1;33m\u001b[0m\u001b[1;33m\u001b[0m\u001b[0m\n\u001b[0m",
      "\u001b[1;32m~\\source\\repos\\virtualfloat\\src\\virtualfloat\\gui.py\u001b[0m in \u001b[0;36m__init__\u001b[1;34m(self, scene)\u001b[0m\n\u001b[0;32m    205\u001b[0m \u001b[1;33m\u001b[0m\u001b[0m\n\u001b[0;32m    206\u001b[0m         \u001b[0mself\u001b[0m\u001b[1;33m.\u001b[0m\u001b[0mMainWindow\u001b[0m\u001b[1;33m.\u001b[0m\u001b[0msetCentralWidget\u001b[0m\u001b[1;33m(\u001b[0m\u001b[0mself\u001b[0m\u001b[1;33m.\u001b[0m\u001b[0mui\u001b[0m\u001b[1;33m.\u001b[0m\u001b[0mframe3d\u001b[0m\u001b[1;33m)\u001b[0m\u001b[1;33m\u001b[0m\u001b[1;33m\u001b[0m\u001b[0m\n\u001b[1;32m--> 207\u001b[1;33m         \u001b[0mself\u001b[0m\u001b[1;33m.\u001b[0m\u001b[0mvisual\u001b[0m\u001b[1;33m.\u001b[0m\u001b[0mshow_embedded\u001b[0m\u001b[1;33m(\u001b[0m\u001b[0mself\u001b[0m\u001b[1;33m.\u001b[0m\u001b[0mui\u001b[0m\u001b[1;33m.\u001b[0m\u001b[0mframe3d\u001b[0m\u001b[1;33m)\u001b[0m\u001b[1;33m\u001b[0m\u001b[1;33m\u001b[0m\u001b[0m\n\u001b[0m\u001b[0;32m    208\u001b[0m         \u001b[0mself\u001b[0m\u001b[1;33m.\u001b[0m\u001b[0mvisual\u001b[0m\u001b[1;33m.\u001b[0m\u001b[0mupdate_visibility\u001b[0m\u001b[1;33m(\u001b[0m\u001b[1;33m)\u001b[0m\u001b[1;33m\u001b[0m\u001b[1;33m\u001b[0m\u001b[0m\n\u001b[0;32m    209\u001b[0m \u001b[1;33m\u001b[0m\u001b[0m\n",
      "\u001b[1;32m~\\source\\repos\\virtualfloat\\src\\virtualfloat\\visual.py\u001b[0m in \u001b[0;36mshow_embedded\u001b[1;34m(self, target_frame)\u001b[0m\n\u001b[0;32m    656\u001b[0m \u001b[1;33m\u001b[0m\u001b[0m\n\u001b[0;32m    657\u001b[0m         \u001b[0mself\u001b[0m\u001b[1;33m.\u001b[0m\u001b[0mrenwin\u001b[0m \u001b[1;33m=\u001b[0m \u001b[0mself\u001b[0m\u001b[1;33m.\u001b[0m\u001b[0mvtkWidget\u001b[0m\u001b[1;33m.\u001b[0m\u001b[0mGetRenderWindow\u001b[0m\u001b[1;33m(\u001b[0m\u001b[1;33m)\u001b[0m\u001b[1;33m\u001b[0m\u001b[1;33m\u001b[0m\u001b[0m\n\u001b[1;32m--> 658\u001b[1;33m         \u001b[0mself\u001b[0m\u001b[1;33m.\u001b[0m\u001b[0mrenderer\u001b[0m \u001b[1;33m=\u001b[0m \u001b[0mscreen\u001b[0m\u001b[1;33m.\u001b[0m\u001b[0mrenderers\u001b[0m\u001b[1;33m[\u001b[0m\u001b[1;36m0\u001b[0m\u001b[1;33m]\u001b[0m\u001b[1;33m\u001b[0m\u001b[1;33m\u001b[0m\u001b[0m\n\u001b[0m\u001b[0;32m    659\u001b[0m \u001b[1;33m\u001b[0m\u001b[0m\n\u001b[0;32m    660\u001b[0m         \u001b[0mself\u001b[0m\u001b[1;33m.\u001b[0m\u001b[0mrenwin\u001b[0m\u001b[1;33m.\u001b[0m\u001b[0mAddRenderer\u001b[0m\u001b[1;33m(\u001b[0m\u001b[0mself\u001b[0m\u001b[1;33m.\u001b[0m\u001b[0mrenderer\u001b[0m\u001b[1;33m)\u001b[0m\u001b[1;33m\u001b[0m\u001b[1;33m\u001b[0m\u001b[0m\n",
      "\u001b[1;31mIndexError\u001b[0m: list index out of range"
     ]
    }
   ],
   "source": [
    "Gui(s).show()"
   ]
  },
  {
   "cell_type": "code",
   "execution_count": null,
   "metadata": {},
   "outputs": [],
   "source": [
    "p = Scene()\n",
    "Gui(p).show()"
   ]
  },
  {
   "cell_type": "code",
   "execution_count": null,
   "metadata": {},
   "outputs": [],
   "source": []
  }
 ],
 "metadata": {
  "kernelspec": {
   "display_name": "Python 3",
   "language": "python",
   "name": "python3"
  },
  "language_info": {
   "codemirror_mode": {
    "name": "ipython",
    "version": 3
   },
   "file_extension": ".py",
   "mimetype": "text/x-python",
   "name": "python",
   "nbconvert_exporter": "python",
   "pygments_lexer": "ipython3",
   "version": "3.7.3"
  },
  "varInspector": {
   "cols": {
    "lenName": 16,
    "lenType": 16,
    "lenVar": 40
   },
   "kernels_config": {
    "python": {
     "delete_cmd_postfix": "",
     "delete_cmd_prefix": "del ",
     "library": "var_list.py",
     "varRefreshCmd": "print(var_dic_list())"
    },
    "r": {
     "delete_cmd_postfix": ") ",
     "delete_cmd_prefix": "rm(",
     "library": "var_list.r",
     "varRefreshCmd": "cat(var_dic_list()) "
    }
   },
   "types_to_exclude": [
    "module",
    "function",
    "builtin_function_or_method",
    "instance",
    "_Feature"
   ],
   "window_display": false
  }
 },
 "nbformat": 4,
 "nbformat_minor": 2
}
