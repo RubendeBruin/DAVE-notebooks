{
 "cells": [
  {
   "cell_type": "markdown",
   "metadata": {},
   "source": [
    "# Using TANKS nodes to model tanks with a free surface\n",
    "\n",
    "DAVE can model tanks with any shape using the same method as it uses to model buoyancy. Create a tank from a shape, define how much volume of fluid is in it and voila."
   ]
  },
  {
   "cell_type": "code",
   "execution_count": 1,
   "metadata": {},
   "outputs": [
    {
     "name": "stdout",
     "output_type": "stream",
     "text": [
      "Equilibrium-core version = 1.02\n",
      "default resource folders:\n",
      "C:\\Users\\beneden\\Miniconda3\\envs\\DAVE\\lib\\site-packages\\DAVE\\resources\n",
      "C:\\Users\\beneden\\DAVE_models\n",
      "Blender found at: C:\\Program Files\\Blender Foundation\\Blender 2.83\\blender.exe\n"
     ]
    }
   ],
   "source": [
    "from DAVE import *"
   ]
  },
  {
   "cell_type": "code",
   "execution_count": 2,
   "metadata": {},
   "outputs": [],
   "source": [
    "s = Scene()"
   ]
  },
  {
   "cell_type": "markdown",
   "metadata": {},
   "source": [
    "Tanks need to be placed on an axis or rigid-body."
   ]
  },
  {
   "cell_type": "code",
   "execution_count": 3,
   "metadata": {},
   "outputs": [],
   "source": [
    "a = s.new_rigidbody('vessel')\n",
    "s.new_buoyancy('Buoyancy mesh', parent = 'vessel')\n"
   ]
  },
  {
   "cell_type": "code",
   "execution_count": 4,
   "metadata": {},
   "outputs": [
    {
     "name": "stdout",
     "output_type": "stream",
     "text": [
      "embedWindow(verbose=True): could not load k3d module, try:\n",
      "> pip install k3d      # and if necessary:\n",
      "> conda install nodejs\n"
     ]
    }
   ],
   "source": [
    "from DAVE.gui import *"
   ]
  },
  {
   "cell_type": "code",
   "execution_count": 5,
   "metadata": {},
   "outputs": [
    {
     "name": "stdout",
     "output_type": "stream",
     "text": [
      "Creating Node Tree\n",
      "Creating Derived Properties\n",
      "Creating Properties\n",
      "Creating Rigg-it-Right\n",
      "-- closing the gui : these were the actions you performed when the gui was open --\n",
      "\n",
      "s.new_buoyancy('Buoyancy mesh', parent = 'vessel')\n"
     ]
    },
    {
     "data": {
      "text/plain": [
       "<DAVE.gui.main.Gui at 0x2db982c5610>"
      ]
     },
     "execution_count": 5,
     "metadata": {},
     "output_type": "execute_result"
    }
   ],
   "source": [
    "Gui(s)"
   ]
  },
  {
   "cell_type": "code",
   "execution_count": null,
   "metadata": {},
   "outputs": [],
   "source": []
  }
 ],
 "metadata": {
  "kernelspec": {
   "display_name": "Python (DAVE)",
   "language": "python",
   "name": "dave"
  },
  "language_info": {
   "codemirror_mode": {
    "name": "ipython",
    "version": 3
   },
   "file_extension": ".py",
   "mimetype": "text/x-python",
   "name": "python",
   "nbconvert_exporter": "python",
   "pygments_lexer": "ipython3",
   "version": "3.8.3"
  }
 },
 "nbformat": 4,
 "nbformat_minor": 4
}
