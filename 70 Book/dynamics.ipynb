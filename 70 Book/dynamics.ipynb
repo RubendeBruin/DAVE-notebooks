{
 "cells": [
  {
   "cell_type": "markdown",
   "metadata": {},
   "source": [
    "# Dynamics"
   ]
  },
  {
   "cell_type": "code",
   "execution_count": 1,
   "metadata": {},
   "outputs": [
    {
     "name": "stdout",
     "output_type": "stream",
     "text": [
      "Equilibrium-core version = 1.05\n",
      "default resource folders:\n",
      "C:\\Users\\beneden\\Miniconda3\\envs\\DAVE\\lib\\site-packages\\DAVE\\resources\n",
      "C:\\Users\\beneden\\DAVE_models\n",
      "C:\\data\\Dave\\Public\\DAVE-notebooks\\70 Book\n",
      "Blender found at: C:\\Program Files\\Blender Foundation\\Blender 2.83\\blender.exe\n"
     ]
    }
   ],
   "source": [
    "from DAVE import *"
   ]
  },
  {
   "cell_type": "code",
   "execution_count": 14,
   "metadata": {},
   "outputs": [],
   "source": [
    "s = Scene()"
   ]
  },
  {
   "cell_type": "code",
   "execution_count": 15,
   "metadata": {},
   "outputs": [],
   "source": [
    "a = s.new_axis('axis', fixed=False)"
   ]
  },
  {
   "cell_type": "code",
   "execution_count": 16,
   "metadata": {},
   "outputs": [],
   "source": [
    "a.inertia = 100"
   ]
  },
  {
   "cell_type": "code",
   "execution_count": 17,
   "metadata": {},
   "outputs": [],
   "source": [
    "a.inertia_radii = (1,2,2)"
   ]
  },
  {
   "cell_type": "code",
   "execution_count": 28,
   "metadata": {},
   "outputs": [
    {
     "data": {
      "text/plain": [
       "array([[100.,   0.,   0.,   0.,   0.,   0.],\n",
       "       [  0., 100.,   0.,   0.,   0.,   0.],\n",
       "       [  0.,   0., 100.,   0.,   0.,   0.],\n",
       "       [  0.,   0.,   0., 100.,   0.,   0.],\n",
       "       [  0.,   0.,   0.,   0., 400.,   0.],\n",
       "       [  0.,   0.,   0.,   0.,   0., 400.]])"
      ]
     },
     "execution_count": 28,
     "metadata": {},
     "output_type": "execute_result"
    }
   ],
   "source": [
    "s.dynamics_M(delta=0.000001)"
   ]
  },
  {
   "cell_type": "code",
   "execution_count": 20,
   "metadata": {},
   "outputs": [
    {
     "data": {
      "text/plain": [
       "array([[-0., -0., -0., -0., -0., -0.],\n",
       "       [-0., -0., -0., -0., -0., -0.],\n",
       "       [-0., -0., -0., -0., -0., -0.],\n",
       "       [-0., -0., -0., -0., -0., -0.],\n",
       "       [-0., -0., -0., -0., -0., -0.],\n",
       "       [-0., -0., -0., -0., -0., -0.]])"
      ]
     },
     "execution_count": 20,
     "metadata": {},
     "output_type": "execute_result"
    }
   ],
   "source": [
    "s.dynamics_K(delta=0.3)"
   ]
  },
  {
   "cell_type": "code",
   "execution_count": 23,
   "metadata": {},
   "outputs": [
    {
     "data": {
      "text/plain": [
       "[0, 1, 2, 3, 4, 5]"
      ]
     },
     "execution_count": 23,
     "metadata": {},
     "output_type": "execute_result"
    }
   ],
   "source": [
    "s.dynamics_modes()"
   ]
  },
  {
   "cell_type": "code",
   "execution_count": 24,
   "metadata": {},
   "outputs": [
    {
     "data": {
      "text/plain": [
       "[axis <'DAVE.scene.Axis>,\n",
       " axis <'DAVE.scene.Axis>,\n",
       " axis <'DAVE.scene.Axis>,\n",
       " axis <'DAVE.scene.Axis>,\n",
       " axis <'DAVE.scene.Axis>,\n",
       " axis <'DAVE.scene.Axis>]"
      ]
     },
     "execution_count": 24,
     "metadata": {},
     "output_type": "execute_result"
    }
   ],
   "source": [
    "s.dynamics_nodes()"
   ]
  },
  {
   "cell_type": "code",
   "execution_count": null,
   "metadata": {},
   "outputs": [],
   "source": []
  }
 ],
 "metadata": {
  "kernelspec": {
   "display_name": "Python (DAVE)",
   "language": "python",
   "name": "dave"
  },
  "language_info": {
   "codemirror_mode": {
    "name": "ipython",
    "version": 3
   },
   "file_extension": ".py",
   "mimetype": "text/x-python",
   "name": "python",
   "nbconvert_exporter": "python",
   "pygments_lexer": "ipython3",
   "version": "3.8.3"
  }
 },
 "nbformat": 4,
 "nbformat_minor": 4
}
